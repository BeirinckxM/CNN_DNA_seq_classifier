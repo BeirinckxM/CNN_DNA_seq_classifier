{
 "cells": [
  {
   "cell_type": "markdown",
   "metadata": {},
   "source": [
    "# Read me\n",
    "\n",
    "Project where I investigate the idea of using neural networks to classify DNA sequences:\n",
    "\n",
    "- Generate pseudorandom nucleotide sequences\n",
    "- Generate point mutations/indels into those sequences based on probabilities for given mutations\n",
    "- Build a CNN to distinguish sequences with certain of those mutation from other sequences that don't have those mutations\n",
    "\n",
    "I will represent the sequences using a one-hot encoding matrix (One row for each base) and possibly take a look at Google's Nucleus Package in Tensorflow that's purposed for genomic data handling. Maybe https://github.com/nh13/DWGSIM can also be used to generate sequences?..\n"
   ]
  },
  {
   "cell_type": "markdown",
   "metadata": {},
   "source": [
    "TODO:\n",
    "    - Finish evaluation\n",
    "    - Tidy up\n",
    "    - Try varying flanking region length with sequence cropping"
   ]
  },
  {
   "cell_type": "code",
   "execution_count": 386,
   "metadata": {},
   "outputs": [],
   "source": [
    "import pandas as pd\n",
    "import numpy as np\n",
    "import matplotlib.pyplot as plt\n",
    "import tensorflow as tf\n",
    "from tensorflow import keras\n",
    "import random\n",
    "#import logomaker as lm\n",
    "from Bio.Seq import Seq\n",
    "from Bio import motifs\n",
    "from Bio.Alphabet import generic_dna"
   ]
  },
  {
   "cell_type": "markdown",
   "metadata": {},
   "source": [
    "## Part 1: Generate sequences"
   ]
  },
  {
   "cell_type": "code",
   "execution_count": 417,
   "metadata": {},
   "outputs": [
    {
     "name": "stdout",
     "output_type": "stream",
     "text": [
      "Is the position for the mutation in the varablie positions? (Should be False): False\n",
      "Mutation will occur at position [75 37 67 80 56] in the starting sequence\n",
      "['G', 'C', 'C', 'T', 'G']\n",
      "Starting with sequence: ATCACGTGCTCCGCAGATGCCGTCACTTTTTTTGCACGGGTGAGGACAGCCGACTGACCCCGGGCACTCTCCTACCCCTGGCGTGAAGTTACCGCATACC\n"
     ]
    },
    {
     "name": "stderr",
     "output_type": "stream",
     "text": [
      "/Users/mattijsbeirinckx/opt/anaconda3/lib/python3.7/site-packages/ipykernel_launcher.py:20: DeprecationWarning: elementwise comparison failed; this will raise an error in the future.\n"
     ]
    }
   ],
   "source": [
    "#Set some values for the sequences we'll generate:\n",
    "bases = ['A', 'T', 'C', 'G']\n",
    "seq_length = 100\n",
    "number_of_seq = 1000\n",
    "\n",
    "#The original 'gene' is a random nucleotide sequence:\n",
    "start_sequence = random.choices(bases, k=seq_length)\n",
    "#print('The original \"gene\":',''.join(start_sequence))\n",
    "\n",
    "#Set the mutation and variation rate:\n",
    "variation_rate = .2\n",
    "n_variantions = int(round(variation_rate * seq_length))\n",
    "\n",
    "#Select random places for variation\n",
    "var_places = np.random.randint(0, seq_length, size=n_variantions)\n",
    "\n",
    "#Select random places for mutation (DIFFERENT from variation!)\n",
    "n_mutations = 5\n",
    "mutation_pos = np.random.choice(np.setdiff1d(np.arange(seq_length),var_places, assume_unique=True), n_mutations)\n",
    "print(\"Is the position for the mutation in the varablie positions? (Should be False):\", mutation_pos in var_places)\n",
    "print(f'Mutation will occur at position {mutation_pos} in the starting sequence')\n",
    "\n",
    "#Select a base that will be the \"mutated\" base.\n",
    "#We need to check if these is the same or not with the original base in the original gene.\n",
    "#This way we make sure it's \"mutated\"\n",
    "\n",
    "mutated_bases = []\n",
    "for pos in mutation_pos:\n",
    "    og_base = start_sequence[pos]\n",
    "    mu_base = random.choice([base for base in bases if base != og_base]) #Pick a different base for that position\n",
    "    mutated_bases.append(mu_base)\n",
    "    \n",
    "print(mutated_bases)\n",
    "\n",
    "\n",
    "#def pick_mutation_positions(mutation_pos, fixed_base, n):\n",
    "#    mutation_pos = np.random.choice(np.setdiff1d(np.arange(seq_length),var_places, assume_unique=True), n)\n",
    "\n",
    "#print(\"Check if fixed_base is different:\", check_base(mutation_pos=mutation_pos, fixed_base=fixed_base))\n",
    "\n",
    "#check = fixed_base != start_sequence[mutation_pos]\n",
    "#print('Are original base and new mutated base different?:', check)\n",
    "\n",
    "#print(f'Position {mutation_pos} in the starting sequence will be changed to {fixed_base} from {start_sequence[mutation_pos]}')\n",
    "\n",
    "print(\"Starting with sequence:\",''.join(start_sequence))\n",
    "\n",
    "#Each point mutation has preditermined probabilities for a given base occuring at that position.\n",
    "probs = [np.random.dirichlet(np.ones(4),size=1).flatten() for point in range(n_variantions)]\n",
    "\n",
    "#For every sequence we have to pick a base for every point mutation given those probabilities\n",
    "\n",
    "#Healthy sequence: fixed point mutations with probability of occurence represent a \"varying healthy gene\"\n",
    "\n",
    "def healthy_gen(seq):\n",
    "    for i,p in enumerate(var_places):\n",
    "        base = random.choices(bases, weights=probs[i])[0]\n",
    "        seq[p] = base\n",
    "    return seq\n",
    "\n",
    "#Mutated sequence: Similarly varying as the healthy sequence\n",
    "#BUT contains either one or all of the mutated positions\n",
    "def mutated_gen(seq):\n",
    "    for i, p in enumerate(var_places):\n",
    "        base = random.choices(bases, weights=probs[i])[0]\n",
    "        seq[p] = base\n",
    "        \n",
    "    n_muts = random.choice(np.arange(1,n_mutations+1))\n",
    "    for mut in range(n_muts):\n",
    "        for pos, base in random.sample(list(zip(mutation_pos, mutated_bases)),1):\n",
    "            seq[pos] = base \n",
    "    return seq"
   ]
  },
  {
   "cell_type": "code",
   "execution_count": 418,
   "metadata": {},
   "outputs": [
    {
     "name": "stdout",
     "output_type": "stream",
     "text": [
      "\n",
      "Variations occur at [99 25 78 16 69 57 61 66 24  9 79 11 35 92 33 79 45  6 43  5]\n",
      "\n",
      "_____VV__V_V____V_______VV_______V_V_______V_V___________V___V____V__V________VV____________V______V\n",
      "ATCACGCGCCCAGCAGTTGCCGTCCTTTTTTTTCCCCGGGTGATGACAGCCGACTGAGCCCGGGCAGTCCCCTACCCCTGGCGTGAAGTTACAGCATACC\n",
      "ATCACTTGCCCTGCAGGTGCCGTCGATTTTTTTGCTCGGGTGAAGACAGCCGACTGAGCCCAGGCAGTCGCCTACCCCGGGCGTGAAGTTACCGCATACT\n",
      "ATCACTTGCCCTGCAGATGCCGTCGGTTTTTTTGCTCGGGTGATGACAGCCGACTGATCCCCGGCAGTCACCTACCCCTCGCGTGAAGTTACCGCATACT\n",
      "ATCACGCGCCCGGCAGATGCCGTCCTTTTTTTTGCCCGGGTGATGACAGCCGACTGAACCCTGGCAATCGCCTACCCCTGGCGTGAAGTTACGGCATACT\n",
      "ATCACTGGCCCAGCAGATGCCGTCCGTTTTTTTCCTCGGGTGATGACAGCCGACTGATCCCTGGCACTCGCCTACCCCTCGCGTGAAGTTACTGCATACA\n",
      "\n",
      "Mutations occur at [75 37 67 80 56]\n",
      "\n",
      "_____VV__V_V____V_______VV_______V_V_M_____V_V__________MV___V____VM_V_____M__VVM___________V______V\n",
      "ATCACGAGCCCAGCAGGTGCCGTCTGTTTTTTTGCACGGGTGAAGACAGCCGACTGGACCCGGGCAGTCGCCTACCCCTGGCGTGAAGTTACCGCATACA\n",
      "ATCACGTGCCCCGCAGGTGCCGTCCTTTTTTTTCCTCGGGTGATGACAGCCGACTGAACCCTGGCAGCCCCCTACCCCCGTCGTGAAGTTACGGCATACT\n",
      "ATCACGTGCCCAGCAGTTGCCGTCTATTTTTTTGCACCGGTGATGACAGCCGACTGGTCCCAGGCACCCCCCTACCCCTGTCGTGAAGTTACTGCATACG\n",
      "ATCACTCGCCCAGCAGATGCCGTCACTTTTTTTGCACGGGTGAGGACAGCCGACTGACCCCAGGCAGCCGCCTACGCCGGTCGTGAAGTTACTGCATACT\n",
      "ATCACTAGCACTGCAGATGCCGTCCATTTTTTTGCACGGGTGATGTCAGCCGACTGGGCCCGGGCAGTCGCCTACGCCCGTCGTGAAGTTACGGCATACC\n"
     ]
    }
   ],
   "source": [
    "#This represent the sequences as we would get them from a fasta file\n",
    "negatives = [''.join(healthy_gen(seq=start_sequence[:])) for i in range(number_of_seq)]\n",
    "positives = [''.join(mutated_gen(seq=start_sequence[:])) for i in range(number_of_seq)]\n",
    "\n",
    "print(f'\\nVariations occur at {var_places}\\n')\n",
    "blank_var = list('_'*seq_length)\n",
    "for pos in var_places:\n",
    "    blank_var[pos]='V'\n",
    "print(''.join(blank_var))\n",
    "\n",
    "for i in range(5):\n",
    "    print(negatives[i])\n",
    "\n",
    "print(f'\\nMutations occur at {mutation_pos}\\n')\n",
    "blank_mut = list('_'*seq_length)\n",
    "for pos in var_places:\n",
    "    blank_mut[pos]='V'\n",
    "for pos in mutation_pos:\n",
    "    blank_mut[pos]='M'\n",
    "print(''.join(blank_mut))\n",
    "\n",
    "for i in range(5):\n",
    "    print(positives[i])"
   ]
  },
  {
   "cell_type": "code",
   "execution_count": 419,
   "metadata": {},
   "outputs": [],
   "source": [
    "#FLANKING REGIONS TO MAKE IT HARDER\n",
    "def flanking_regions(sequence, flank=10):\n",
    "    flank_left = random.choices(bases, k=flank)\n",
    "    flank_right = random.choices(bases, k=flank)\n",
    "    \n",
    "    new_seq = ''.join(flank_left)+sequence+''.join(flank_right)\n",
    "    return new_seq\n",
    "\n",
    "\n",
    "negatives_flanked = [flanking_regions(sequence=seq) for seq in negatives]\n",
    "positives_flanked = [flanking_regions(sequence=seq) for seq in positives]"
   ]
  },
  {
   "cell_type": "markdown",
   "metadata": {},
   "source": [
    "## Part 2: Prepare data for input in CNN"
   ]
  },
  {
   "cell_type": "code",
   "execution_count": 420,
   "metadata": {},
   "outputs": [
    {
     "name": "stdout",
     "output_type": "stream",
     "text": [
      "2000 2000\n"
     ]
    }
   ],
   "source": [
    "#Data augmentation using the reverse complement\n",
    "rc_negatives = [str(Seq(x, alphabet=generic_dna).reverse_complement()) for x in negatives_flanked]\n",
    "rc_positives = [str(Seq(x, alphabet=generic_dna).reverse_complement()) for x in positives_flanked]\n",
    "negatives_augmented = negatives_flanked+rc_negatives\n",
    "positives_augmented = positives_flanked+rc_positives\n",
    "print(len(negatives_augmented), len(positives_augmented))\n",
    "\n",
    "sequences = negatives_augmented + positives_augmented\n",
    "labels = list(np.zeros(len(negatives_augmented))) + list(np.ones(len(positives_augmented)))"
   ]
  },
  {
   "cell_type": "code",
   "execution_count": 421,
   "metadata": {},
   "outputs": [
    {
     "name": "stdout",
     "output_type": "stream",
     "text": [
      "Example sequence\n",
      "-----------------------\n",
      "DNA Sequence #1:\n",
      " AATCGCAAGA ... AGGATGTCAC\n",
      "\n",
      "One hot encoding of Sequence #1:\n",
      " [[1. 1. 0. ... 0. 1. 0.]\n",
      " [0. 0. 0. ... 1. 0. 1.]\n",
      " [0. 0. 0. ... 0. 0. 0.]\n",
      " [0. 0. 1. ... 0. 0. 0.]]\n",
      "\n",
      "Labels:\n",
      " [[0. 0. 0. ... 1. 1. 1.]]\n",
      "\n",
      "One-hot encoded labels:\n",
      " [[1. 1. 1. ... 0. 0. 0.]\n",
      " [0. 0. 0. ... 1. 1. 1.]]\n"
     ]
    }
   ],
   "source": [
    "from sklearn.preprocessing import LabelEncoder, OneHotEncoder\n",
    "#Create data input for CNN\n",
    "#From https://github.com/NikolayOskolkov/DeepLearningAncientDNA/blob/master/DeepLearningAncientDNA.ipynb\n",
    "\n",
    "integer_encoder = LabelEncoder() \n",
    "one_hot_encoder = OneHotEncoder()  \n",
    "input_features = []\n",
    "\n",
    "for sequence in sequences:\n",
    "    integer_encoded = integer_encoder.fit_transform(list(sequence))\n",
    "    integer_encoded = np.array(integer_encoded).reshape(-1, 1)\n",
    "    one_hot_encoded = one_hot_encoder.fit_transform(integer_encoded)\n",
    "    input_features.append(one_hot_encoded.toarray())\n",
    "\n",
    "np.set_printoptions(threshold=40)\n",
    "#print(input_features.shape)\n",
    "input_features = np.stack(input_features)\n",
    "print(\"Example sequence\\n-----------------------\")\n",
    "print('DNA Sequence #1:\\n',sequences[0][:10],'...',sequences[0][-10:])\n",
    "print('\\nOne hot encoding of Sequence #1:\\n',input_features[0].T)\n",
    "\n",
    "\n",
    "\n",
    "#Same for labels\n",
    "\n",
    "one_hot_encoder = OneHotEncoder()\n",
    "labels = np.array(labels).reshape(-1, 1)\n",
    "input_labels = one_hot_encoder.fit_transform(labels).toarray()\n",
    "\n",
    "print('\\nLabels:\\n',labels.T)\n",
    "print('\\nOne-hot encoded labels:\\n',input_labels.T)"
   ]
  },
  {
   "cell_type": "code",
   "execution_count": 422,
   "metadata": {},
   "outputs": [
    {
     "name": "stdout",
     "output_type": "stream",
     "text": [
      "[1476. 1524.] [524. 476.]\n"
     ]
    }
   ],
   "source": [
    "from sklearn.model_selection import train_test_split\n",
    "\n",
    "train_features, test_features, train_labels, test_labels = train_test_split(\n",
    "    input_features, input_labels, test_size=0.25, random_state=42)\n",
    "\n",
    "print(np.sum(train_labels, axis = 0), \n",
    "      np.sum(test_labels, axis = 0))"
   ]
  },
  {
   "cell_type": "code",
   "execution_count": 423,
   "metadata": {},
   "outputs": [
    {
     "name": "stdout",
     "output_type": "stream",
     "text": [
      "Training features shape: (3000, 120, 4)\n",
      "Training labels shape: (3000, 2)\n",
      "Testing features shape: (1000, 120, 4)\n",
      "Testing labels shape: (1000, 2)\n",
      "Feature input shape: (120, 4)\n"
     ]
    }
   ],
   "source": [
    "print('Training features shape:', train_features.shape)\n",
    "print('Training labels shape:', train_labels.shape)\n",
    "print('Testing features shape:', test_features.shape)\n",
    "print('Testing labels shape:', test_labels.shape)\n",
    "\n",
    "input_shape = (train_features.shape[1], 4)\n",
    "print('Feature input shape:', input_shape)\n",
    "\n",
    "\n",
    "train_dataset = tf.data.Dataset.from_tensor_slices((train_features, train_labels))\n",
    "test_dataset = tf.data.Dataset.from_tensor_slices((test_features, test_labels))\n",
    "\n",
    "\n",
    "#Shuffle and Bacth the dataset? TODO\n",
    "BATCH_SIZE = 20\n",
    "SHUFFLE_BUFFER_SIZE = 100\n",
    "\n",
    "train_dataset = train_dataset.shuffle(SHUFFLE_BUFFER_SIZE).batch(BATCH_SIZE)\n",
    "test_dataset = test_dataset.batch(BATCH_SIZE)"
   ]
  },
  {
   "cell_type": "markdown",
   "metadata": {},
   "source": [
    "## Part 3: Create and Train the CNN model "
   ]
  },
  {
   "cell_type": "code",
   "execution_count": 424,
   "metadata": {},
   "outputs": [],
   "source": [
    "from tensorflow.keras.layers import MaxPool1D,Conv1D, Dense, MaxPooling1D, Flatten, Dropout, BatchNormalization, Activation\n",
    "from tensorflow.keras.models import Sequential\n",
    "from tensorflow.keras.optimizers import SGD, Adam, Adadelta"
   ]
  },
  {
   "cell_type": "code",
   "execution_count": 425,
   "metadata": {},
   "outputs": [
    {
     "name": "stdout",
     "output_type": "stream",
     "text": [
      "Model: \"sequential_11\"\n",
      "_________________________________________________________________\n",
      "Layer (type)                 Output Shape              Param #   \n",
      "=================================================================\n",
      "conv1d_11 (Conv1D)           (None, 120, 10)           170       \n",
      "_________________________________________________________________\n",
      "dropout_10 (Dropout)         (None, 120, 10)           0         \n",
      "_________________________________________________________________\n",
      "flatten_10 (Flatten)         (None, 1200)              0         \n",
      "_________________________________________________________________\n",
      "dense_10 (Dense)             (None, 2)                 2402      \n",
      "=================================================================\n",
      "Total params: 2,572\n",
      "Trainable params: 2,572\n",
      "Non-trainable params: 0\n",
      "_________________________________________________________________\n"
     ]
    }
   ],
   "source": [
    "#Try a super simple model with 1D convolution (The problem is trivial...)\n",
    "model = Sequential()\n",
    "model.add(Conv1D(filters=10, kernel_size=4, padding='same', \n",
    "                 input_shape=input_shape, activation='relu'))\n",
    "model.add(Dropout(0.4))\n",
    "model.add(Flatten())\n",
    "model.add(Dense(2, activation='softmax'))\n",
    "\n",
    "\n",
    "sgd = SGD(lr=0.01, decay=1e-6, momentum=0.9, nesterov=True)\n",
    "\n",
    "model.compile(optimizer=sgd,\n",
    "              loss='binary_crossentropy',\n",
    "              metrics=['accuracy'])\n",
    "\n",
    "model.summary()"
   ]
  },
  {
   "cell_type": "code",
   "execution_count": 426,
   "metadata": {},
   "outputs": [
    {
     "name": "stdout",
     "output_type": "stream",
     "text": [
      "Epoch 1/10\n",
      "150/150 [==============================] - 2s 16ms/step - loss: 0.5077 - accuracy: 0.7477 - val_loss: 0.0000e+00 - val_accuracy: 0.0000e+00\n",
      "Epoch 2/10\n",
      "150/150 [==============================] - 1s 6ms/step - loss: 0.2985 - accuracy: 0.8793 - val_loss: 0.1869 - val_accuracy: 0.9740\n",
      "Epoch 3/10\n",
      "150/150 [==============================] - 1s 6ms/step - loss: 0.2353 - accuracy: 0.9067 - val_loss: 0.1394 - val_accuracy: 0.9880\n",
      "Epoch 4/10\n",
      "150/150 [==============================] - 1s 6ms/step - loss: 0.2021 - accuracy: 0.9257 - val_loss: 0.1295 - val_accuracy: 0.9860\n",
      "Epoch 5/10\n",
      "150/150 [==============================] - 1s 6ms/step - loss: 0.1682 - accuracy: 0.9320 - val_loss: 0.1036 - val_accuracy: 0.9540\n",
      "Epoch 6/10\n",
      "150/150 [==============================] - 1s 6ms/step - loss: 0.1499 - accuracy: 0.9427 - val_loss: 0.0944 - val_accuracy: 0.9570\n",
      "Epoch 7/10\n",
      "150/150 [==============================] - 1s 7ms/step - loss: 0.1524 - accuracy: 0.9440 - val_loss: 0.0730 - val_accuracy: 0.9950\n",
      "Epoch 8/10\n",
      "150/150 [==============================] - 1s 8ms/step - loss: 0.1314 - accuracy: 0.9523 - val_loss: 0.0682 - val_accuracy: 0.9970\n",
      "Epoch 9/10\n",
      "150/150 [==============================] - 1s 6ms/step - loss: 0.1130 - accuracy: 0.9600 - val_loss: 0.0527 - val_accuracy: 0.9980\n",
      "Epoch 10/10\n",
      "150/150 [==============================] - 1s 6ms/step - loss: 0.1172 - accuracy: 0.9590 - val_loss: 0.0545 - val_accuracy: 0.9960\n"
     ]
    }
   ],
   "source": [
    "history = model.fit(train_dataset, epochs=10, \n",
    "                    validation_data=test_dataset)"
   ]
  },
  {
   "cell_type": "markdown",
   "metadata": {},
   "source": [
    "## Part 4: Evaluate the model"
   ]
  },
  {
   "cell_type": "code",
   "execution_count": 427,
   "metadata": {},
   "outputs": [
    {
     "name": "stdout",
     "output_type": "stream",
     "text": [
      "50/50 - 0s - loss: 0.0545 - accuracy: 0.9960\n"
     ]
    },
    {
     "data": {
      "image/png": "[encoded data removed]",
      "text/plain": [
       "<Figure size 432x288 with 1 Axes>"
      ]
     },
     "metadata": {
      "needs_background": "light"
     },
     "output_type": "display_data"
    }
   ],
   "source": [
    "plt.plot(history.history['accuracy'], label='accuracy')\n",
    "plt.plot(history.history['val_accuracy'], label = 'val_accuracy')\n",
    "plt.xlabel('Epoch')\n",
    "plt.ylabel('Accuracy')\n",
    "plt.ylim([0.5, 1])\n",
    "plt.legend(loc='lower right')\n",
    "\n",
    "test_loss, test_acc = model.evaluate(test_dataset, verbose=2)"
   ]
  }
 ],
 "metadata": {
  "kernelspec": {
   "display_name": "Python 3",
   "language": "python",
   "name": "python3"
  },
  "language_info": {
   "codemirror_mode": {
    "name": "ipython",
    "version": 3
   },
   "file_extension": ".py",
   "mimetype": "text/x-python",
   "name": "python",
   "nbconvert_exporter": "python",
   "pygments_lexer": "ipython3",
   "version": "3.7.5"
  }
 },
 "nbformat": 4,
 "nbformat_minor": 4
}
