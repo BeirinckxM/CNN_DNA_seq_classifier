{
 "cells": [
  {
   "cell_type": "markdown",
   "metadata": {},
   "source": [
    "# Read me\n",
    "\n",
    "Project where I investigate the idea of using neural networks to classify DNA sequences:\n",
    "\n",
    "- Generate pseudorandom nucleotide sequences\n",
    "- Generate point mutations/indels into those sequences based on probabilities for given mutations\n",
    "- Build a CNN to distinguish sequences with certain of those mutation from other sequences that don't have those mutations\n",
    "\n",
    "I will represent the sequences using a one-hot encoding matrix (One row for each base) and possibly take a look at Google's Nucleus Package in Tensorflow that's purposed for genomic data handling. Maybe https://github.com/nh13/DWGSIM can also be used to generate sequences?..\n"
   ]
  },
  {
   "cell_type": "code",
   "execution_count": 28,
   "metadata": {},
   "outputs": [],
   "source": [
    "import pandas as pd\n",
    "import numpy as np\n",
    "import tensorflow.keras as keras\n",
    "import random"
   ]
  },
  {
   "cell_type": "markdown",
   "metadata": {},
   "source": [
    "## Part 1: Create sequences"
   ]
  },
  {
   "cell_type": "code",
   "execution_count": 71,
   "metadata": {},
   "outputs": [
    {
     "data": {
      "text/plain": [
       "'GATTCACAACATAACTGGAAAAATCTACTGGGGATTACGGAATCTGCACATCCAAAGATCAATAGGCCCCAGAGTTATCCTGGTCACACGAGTACCTTATGATCAGCACTGATAGCTGACGAACTGCTGACGTCCTTCTGAATGTTAGGG'"
      ]
     },
     "execution_count": 71,
     "metadata": {},
     "output_type": "execute_result"
    }
   ],
   "source": [
    "bases = ['A', 'T', 'C', 'G'] #May also use codons\n",
    "seq_length = 150\n",
    "number_of_seq = 10\n",
    "sequence = random.choices(bases, k=seq_length)\n",
    "''.join(sequence)"
   ]
  },
  {
   "cell_type": "code",
   "execution_count": 79,
   "metadata": {},
   "outputs": [
    {
     "ename": "TypeError",
     "evalue": "sequence item 7: expected str instance, list found",
     "output_type": "error",
     "traceback": [
      "\u001b[0;31m---------------------------------------------------------------------------\u001b[0m",
      "\u001b[0;31mTypeError\u001b[0m                                 Traceback (most recent call last)",
      "\u001b[0;32m<ipython-input-79-48ee523ae75d>\u001b[0m in \u001b[0;36m<module>\u001b[0;34m\u001b[0m\n\u001b[1;32m     11\u001b[0m         \u001b[0mbase\u001b[0m \u001b[0;34m=\u001b[0m \u001b[0mrandom\u001b[0m\u001b[0;34m.\u001b[0m\u001b[0mchoices\u001b[0m\u001b[0;34m(\u001b[0m\u001b[0mbases\u001b[0m\u001b[0;34m,\u001b[0m \u001b[0mweights\u001b[0m\u001b[0;34m=\u001b[0m\u001b[0mprobs\u001b[0m\u001b[0;34m[\u001b[0m\u001b[0mj\u001b[0m\u001b[0;34m]\u001b[0m\u001b[0;34m)\u001b[0m\u001b[0;34m\u001b[0m\u001b[0;34m\u001b[0m\u001b[0m\n\u001b[1;32m     12\u001b[0m         \u001b[0mseq\u001b[0m\u001b[0;34m[\u001b[0m\u001b[0mp\u001b[0m\u001b[0;34m]\u001b[0m \u001b[0;34m=\u001b[0m \u001b[0mbase\u001b[0m\u001b[0;34m\u001b[0m\u001b[0;34m\u001b[0m\u001b[0m\n\u001b[0;32m---> 13\u001b[0;31m         \u001b[0mprint\u001b[0m\u001b[0;34m(\u001b[0m\u001b[0;34m''\u001b[0m\u001b[0;34m.\u001b[0m\u001b[0mjoin\u001b[0m\u001b[0;34m(\u001b[0m\u001b[0mseq\u001b[0m\u001b[0;34m)\u001b[0m\u001b[0;34m)\u001b[0m\u001b[0;34m\u001b[0m\u001b[0;34m\u001b[0m\u001b[0m\n\u001b[0m\u001b[1;32m     14\u001b[0m \u001b[0;34m\u001b[0m\u001b[0m\n\u001b[1;32m     15\u001b[0m \u001b[0;34m\u001b[0m\u001b[0m\n",
      "\u001b[0;31mTypeError\u001b[0m: sequence item 7: expected str instance, list found"
     ]
    }
   ],
   "source": [
    "n_point_mutations = 5\n",
    "places_for_mut = np.random.randint(0, seq_length, size=n_point_mutations)\n",
    "\n",
    "#Each point mutation has preditermined probabilities for a given base occuring at that position.\n",
    "probs = [np.random.dirichlet(np.ones(4),size=1).flatten() for point in range(n_point_mutations)]\n",
    "\n",
    "#For every sequence we have to pick a base for every point mutation given those probabilities\n",
    "for i in range(number_of_seq):\n",
    "    seq = sequence\n",
    "    for j, p in enumerate(places_for_mut):\n",
    "        base = random.choices(bases, weights=probs[j])\n",
    "        seq[p] = base\n",
    "        print(''.join(seq))\n",
    "    \n",
    "\n",
    "\n",
    "#Healthy sequence: fixed point mutations with probability of occurence represent a \"varying healthy gene\"\n",
    "\n",
    "\n",
    "#Mutated sequence: Similarly varying as the healthy sequence on certain point mutations, \n",
    "#but also contain a number of different mutations."
   ]
  },
  {
   "cell_type": "code",
   "execution_count": 73,
   "metadata": {},
   "outputs": [
    {
     "name": "stdout",
     "output_type": "stream",
     "text": [
      "0 31\n",
      "1 108\n",
      "2 80\n",
      "3 139\n",
      "4 60\n"
     ]
    }
   ],
   "source": [
    "for i,j in enumerate(places_for_mut):\n",
    "    print(i,j)"
   ]
  },
  {
   "cell_type": "code",
   "execution_count": 53,
   "metadata": {},
   "outputs": [
    {
     "data": {
      "text/plain": [
       "array([[0.29674654, 0.23582032, 0.09946131, 0.36797183]])"
      ]
     },
     "execution_count": 53,
     "metadata": {},
     "output_type": "execute_result"
    }
   ],
   "source": [
    "np.random.dirichlet(np.ones(4),size=1)"
   ]
  },
  {
   "cell_type": "code",
   "execution_count": null,
   "metadata": {},
   "outputs": [],
   "source": []
  }
 ],
 "metadata": {
  "kernelspec": {
   "display_name": "Python 3",
   "language": "python",
   "name": "python3"
  },
  "language_info": {
   "codemirror_mode": {
    "name": "ipython",
    "version": 3
   },
   "file_extension": ".py",
   "mimetype": "text/x-python",
   "name": "python",
   "nbconvert_exporter": "python",
   "pygments_lexer": "ipython3",
   "version": "3.7.5"
  }
 },
 "nbformat": 4,
 "nbformat_minor": 4
}
