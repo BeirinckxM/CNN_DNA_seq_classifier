{
 "cells": [
  {
   "cell_type": "markdown",
   "metadata": {},
   "source": [
    "# Read me\n",
    "\n",
    "Project where I investigate the idea of using neural networks to classify DNA sequences:\n",
    "\n",
    "- Generate pseudorandom nucleotide sequences\n",
    "- Generate point mutations/indels into those sequences based on probabilities for given mutations\n",
    "- Build a CNN to distinguish sequences with certain of those mutation from other sequences that don't have those mutations\n",
    "\n",
    "I will represent the sequences using a one-hot encoding matrix (One row for each base) and possibly take a look at Google's Nucleus Package in Tensorflow that's purposed for genomic data handling. Maybe https://github.com/nh13/DWGSIM can also be used to generate sequences?..\n"
   ]
  },
  {
   "cell_type": "code",
   "execution_count": 1,
   "metadata": {},
   "outputs": [],
   "source": [
    "import pandas as pd\n",
    "import numpy as np\n",
    "import matplotlib.pyplot as plt\n",
    "import tensorflow as tf\n",
    "from tensorflow import keras\n",
    "import random\n",
    "#import logomaker as lm\n",
    "from Bio.Seq import Seq\n",
    "from Bio import motifs\n",
    "from Bio.Alphabet import generic_dna"
   ]
  },
  {
   "cell_type": "markdown",
   "metadata": {},
   "source": [
    "## Part 1: Create sequences"
   ]
  },
  {
   "cell_type": "code",
   "execution_count": 2,
   "metadata": {},
   "outputs": [
    {
     "name": "stdout",
     "output_type": "stream",
     "text": [
      "Is the position for the mutation in the varablie positions? (Should be False): False\n",
      "Mutation will occur at position 74 in the starting sequence\n",
      "Are original base and new mutated base different?: True\n",
      "Position 74 in the starting sequence will be changed to G from C\n",
      "Starting with sequence: TTAATGACATCTAGTATTATACACCGAAAGCCGCGTTAAACCGATCGTCTACGATTAGTCAGCTTTCGCTCGGTCGTTAGTTACGGGCAGGGTTGAGCCT\n"
     ]
    }
   ],
   "source": [
    "bases = ['A', 'T', 'C', 'G'] #Could use codons\n",
    "seq_length = 100\n",
    "number_of_seq = 1000\n",
    "start_sequence = random.choices(bases, k=seq_length)\n",
    "''.join(start_sequence)\n",
    "\n",
    "variation_rate = .1\n",
    "n_variantions = int(round(variation_rate * seq_length))\n",
    "var_places = np.random.randint(0, seq_length, size=n_variantions)\n",
    "mutation_pos = np.random.choice(np.setdiff1d(np.arange(seq_length),var_places, assume_unique=True))\n",
    "print(\"Is the position for the mutation in the varablie positions? (Should be False):\", mutation_pos in var_places)\n",
    "print(f'Mutation will occur at position {mutation_pos} in the starting sequence')\n",
    "\n",
    "fixed_base = 'G'\n",
    "check = fixed_base != start_sequence[mutation_pos]\n",
    "print('Are original base and new mutated base different?:', check)\n",
    "\n",
    "print(f'Position {mutation_pos} in the starting sequence will be changed to {fixed_base} from {start_sequence[mutation_pos]}')\n",
    "\n",
    "print(\"Starting with sequence:\",''.join(start_sequence))\n",
    "\n",
    "#Each point mutation has preditermined probabilities for a given base occuring at that position.\n",
    "probs = [np.random.dirichlet(np.ones(4),size=1).flatten() for point in range(n_variantions)]\n",
    "\n",
    "#For every sequence we have to pick a base for every point mutation given those probabilities\n",
    "\n",
    "#Healthy sequence: fixed point mutations with probability of occurence represent a \"varying healthy gene\"\n",
    "\n",
    "def healthy_gen(seq):\n",
    "    for i,p in enumerate(var_places):\n",
    "        base = random.choices(bases, weights=probs[i])[0]\n",
    "        seq[p] = base\n",
    "    return seq\n",
    "\n",
    "#Mutated sequence: Similarly varying as the healthy sequence on certain point mutations, \n",
    "#but also contain (a) different mutation(s).\n",
    "def mutated_gen(seq):\n",
    "    for i, p in enumerate(var_places):\n",
    "        base = random.choices(bases, weights=probs[i])[0]\n",
    "        seq[p] = base\n",
    "    #Fixed position for \"malignant\" mutation\n",
    "    #malignant_base = random.choices(['B', 'B'], weights=[0.3,0.7])[0]\n",
    "    if check == True:\n",
    "        seq[mutation_pos] = fixed_base\n",
    "    return seq"
   ]
  },
  {
   "cell_type": "code",
   "execution_count": 3,
   "metadata": {},
   "outputs": [
    {
     "data": {
      "text/plain": [
       "'TTAATGACATCTAGTATTATACACCGAAAGCCGCGTTAAACCGATCGTCTACGATTAGTCAGCTTTCGCTCGGTCGTTAGTTACGGGCAGGGTTGAGCCT'"
      ]
     },
     "execution_count": 3,
     "metadata": {},
     "output_type": "execute_result"
    }
   ],
   "source": [
    "''.join(start_sequence)"
   ]
  },
  {
   "cell_type": "code",
   "execution_count": 4,
   "metadata": {},
   "outputs": [
    {
     "name": "stdout",
     "output_type": "stream",
     "text": [
      "TTAATGACATCTAGTATTATACACCGAAAGCCTCGCTAAACCGATCGTATACGATAAGTCAGCCTTCGCTCGAGCGTTAGTTACGGCCAGCGTTGAGCCT\n",
      "TTAATGACATCTAGTATTATACACCGAAAGCTGCGGTAAACCGATCGTCTACGATTAGTCAGCATTCGCTCGGGGGTTAGTTACGGTCAGAGTTGAGCCT\n"
     ]
    }
   ],
   "source": [
    "#The represent the sequences as we would get them from a fasta file\n",
    "negatives = [''.join(healthy_gen(seq=start_sequence[:])) for i in range(number_of_seq)]\n",
    "positives = [''.join(mutated_gen(seq=start_sequence[:])) for i in range(number_of_seq)]\n",
    "\n",
    "print(negatives[0])\n",
    "print(positives[0])"
   ]
  },
  {
   "cell_type": "code",
   "execution_count": 5,
   "metadata": {},
   "outputs": [
    {
     "name": "stdout",
     "output_type": "stream",
     "text": [
      "2000 2000\n"
     ]
    }
   ],
   "source": [
    "#Data augmentation using the reverse complement\n",
    "rc_negatives = [str(Seq(x, alphabet=generic_dna).reverse_complement()) for x in negatives]\n",
    "rc_positives = [str(Seq(x, alphabet=generic_dna).reverse_complement()) for x in positives]\n",
    "negatives_augmented = negatives+rc_negatives\n",
    "positives_augmented = positives+rc_positives\n",
    "print(len(negatives_augmented), len(positives_augmented))\n",
    "\n",
    "sequences = negatives_augmented + positives_augmented\n",
    "labels = list(np.zeros(len(negatives_augmented))) + list(np.ones(len(positives_augmented)))"
   ]
  },
  {
   "cell_type": "code",
   "execution_count": 6,
   "metadata": {},
   "outputs": [
    {
     "name": "stdout",
     "output_type": "stream",
     "text": [
      "Example sequence\n",
      "-----------------------\n",
      "DNA Sequence #1:\n",
      " TTAATGACAT ... CGTTGAGCCT\n",
      "One hot encoding of Sequence #1:\n",
      " [[0. 0. 1. ... 0. 0. 0.]\n",
      " [0. 0. 0. ... 1. 1. 0.]\n",
      " [0. 0. 0. ... 0. 0. 0.]\n",
      " [1. 1. 0. ... 0. 0. 1.]]\n",
      "Labels:\n",
      " [[0. 0. 0. ... 1. 1. 1.]]\n",
      "One-hot encoded labels:\n",
      " [[1. 1. 1. ... 0. 0. 0.]\n",
      " [0. 0. 0. ... 1. 1. 1.]]\n"
     ]
    }
   ],
   "source": [
    "from sklearn.preprocessing import LabelEncoder, OneHotEncoder\n",
    "#Create data input for CNN\n",
    "#From https://github.com/NikolayOskolkov/DeepLearningAncientDNA/blob/master/DeepLearningAncientDNA.ipynb\n",
    "\n",
    "integer_encoder = LabelEncoder() \n",
    "one_hot_encoder = OneHotEncoder()  \n",
    "input_features = []\n",
    "\n",
    "for sequence in sequences:\n",
    "    integer_encoded = integer_encoder.fit_transform(list(sequence))\n",
    "    integer_encoded = np.array(integer_encoded).reshape(-1, 1)\n",
    "    one_hot_encoded = one_hot_encoder.fit_transform(integer_encoded)\n",
    "    input_features.append(one_hot_encoded.toarray())\n",
    "\n",
    "np.set_printoptions(threshold=40)\n",
    "#print(input_features.shape)\n",
    "input_features = np.stack(input_features)\n",
    "print(\"Example sequence\\n-----------------------\")\n",
    "print('DNA Sequence #1:\\n',sequences[0][:10],'...',sequences[0][-10:])\n",
    "print('One hot encoding of Sequence #1:\\n',input_features[0].T)\n",
    "\n",
    "\n",
    "\n",
    "#Same for labels\n",
    "\n",
    "one_hot_encoder = OneHotEncoder()\n",
    "labels = np.array(labels).reshape(-1, 1)\n",
    "input_labels = one_hot_encoder.fit_transform(labels).toarray()\n",
    "\n",
    "print('Labels:\\n',labels.T)\n",
    "print('One-hot encoded labels:\\n',input_labels.T)"
   ]
  },
  {
   "cell_type": "code",
   "execution_count": 20,
   "metadata": {},
   "outputs": [
    {
     "name": "stdout",
     "output_type": "stream",
     "text": [
      "[1476. 1524.] [524. 476.]\n"
     ]
    }
   ],
   "source": [
    "from sklearn.model_selection import train_test_split\n",
    "\n",
    "train_features, test_features, train_labels, test_labels = train_test_split(\n",
    "    input_features, input_labels, test_size=0.25, random_state=42)\n",
    "\n",
    "print(np.sum(train_labels, axis = 0), \n",
    "      np.sum(test_labels, axis = 0))"
   ]
  },
  {
   "cell_type": "code",
   "execution_count": 21,
   "metadata": {},
   "outputs": [
    {
     "data": {
      "text/plain": [
       "(3000, 2)"
      ]
     },
     "execution_count": 21,
     "metadata": {},
     "output_type": "execute_result"
    }
   ],
   "source": [
    "train_labels.shape"
   ]
  },
  {
   "cell_type": "code",
   "execution_count": 22,
   "metadata": {},
   "outputs": [
    {
     "data": {
      "text/plain": [
       "(1000, 100, 4)"
      ]
     },
     "execution_count": 22,
     "metadata": {},
     "output_type": "execute_result"
    }
   ],
   "source": [
    "test_features.shape"
   ]
  },
  {
   "cell_type": "code",
   "execution_count": 23,
   "metadata": {},
   "outputs": [
    {
     "data": {
      "text/plain": [
       "(1000, 2)"
      ]
     },
     "execution_count": 23,
     "metadata": {},
     "output_type": "execute_result"
    }
   ],
   "source": [
    "test_labels.shape"
   ]
  },
  {
   "cell_type": "markdown",
   "metadata": {},
   "source": [
    "# CNN "
   ]
  },
  {
   "cell_type": "code",
   "execution_count": 24,
   "metadata": {},
   "outputs": [
    {
     "data": {
      "text/plain": [
       "array([[1., 0.],\n",
       "       [1., 0.],\n",
       "       [1., 0.],\n",
       "       ...,\n",
       "       [0., 1.],\n",
       "       [0., 1.],\n",
       "       [0., 1.]])"
      ]
     },
     "execution_count": 24,
     "metadata": {},
     "output_type": "execute_result"
    }
   ],
   "source": [
    "input_labels"
   ]
  },
  {
   "cell_type": "code",
   "execution_count": null,
   "metadata": {},
   "outputs": [],
   "source": []
  },
  {
   "cell_type": "code",
   "execution_count": null,
   "metadata": {},
   "outputs": [],
   "source": []
  },
  {
   "cell_type": "code",
   "execution_count": null,
   "metadata": {},
   "outputs": [],
   "source": []
  },
  {
   "cell_type": "code",
   "execution_count": null,
   "metadata": {},
   "outputs": [],
   "source": []
  },
  {
   "cell_type": "code",
   "execution_count": null,
   "metadata": {},
   "outputs": [],
   "source": []
  },
  {
   "cell_type": "code",
   "execution_count": null,
   "metadata": {},
   "outputs": [],
   "source": []
  },
  {
   "cell_type": "code",
   "execution_count": null,
   "metadata": {},
   "outputs": [],
   "source": []
  },
  {
   "cell_type": "code",
   "execution_count": null,
   "metadata": {},
   "outputs": [],
   "source": []
  },
  {
   "cell_type": "code",
   "execution_count": null,
   "metadata": {},
   "outputs": [],
   "source": []
  },
  {
   "cell_type": "code",
   "execution_count": 22,
   "metadata": {},
   "outputs": [
    {
     "name": "stdout",
     "output_type": "stream",
     "text": [
      "Working with L1 = 0.1\n",
      "Param: 0.100000, Train: 0.508, Test: 0.476\n",
      "Working with L1 = 0.01\n",
      "Param: 0.010000, Train: 1.000, Test: 1.000\n",
      "Working with L1 = 0.001\n",
      "Param: 0.001000, Train: 1.000, Test: 1.000\n",
      "Working with L1 = 0.0001\n",
      "Param: 0.000100, Train: 1.000, Test: 1.000\n",
      "Working with L1 = 1e-05\n",
      "Param: 0.000010, Train: 1.000, Test: 1.000\n",
      "Working with L1 = 1e-06\n",
      "Param: 0.000001, Train: 1.000, Test: 1.000\n"
     ]
    },
    {
     "data": {
      "image/png": "[encoded data removed]",
      "text/plain": [
       "<Figure size 1440x1080 with 1 Axes>"
      ]
     },
     "metadata": {
      "needs_background": "light"
     },
     "output_type": "display_data"
    }
   ],
   "source": [
    "from tensorflow.keras.optimizers import SGD, Adam, Adadelta\n",
    "from tensorflow.keras.layers import Conv1D, Dense, MaxPooling1D, Flatten, Dropout, BatchNormalization, Activation\n",
    "from tensorflow.keras.models import Sequential\n",
    "from tensorflow.keras.regularizers import l2, l1\n",
    "\n",
    "values = [1e-1, 1e-2, 1e-3, 1e-4, 1e-5, 1e-6]\n",
    "all_train, all_test = list(), list()\n",
    "for param in values:\n",
    "    \n",
    "    print('Working with L1 = {}'.format(param))\n",
    "    \n",
    "    model = Sequential()\n",
    "    model.add(Conv1D(filters = 32, kernel_size = 5, padding = 'same', kernel_initializer = 'he_uniform', \n",
    "                     input_shape=(train_features.shape[1], 4), activation = 'relu',\n",
    "                     kernel_regularizer=l1(param)))\n",
    "    model.add(Conv1D(filters = 32, kernel_size = 5, padding = 'same', kernel_initializer = 'he_uniform', \n",
    "                     activation = 'relu', kernel_regularizer=l1(param)))\n",
    "    model.add(MaxPooling1D(pool_size = 2))\n",
    "    \n",
    "    model.add(Flatten())\n",
    "    model.add(Dense(16, kernel_initializer= 'he_uniform', activation = 'relu', \n",
    "                    kernel_regularizer=l1(param)))\n",
    "    model.add(Dense(2, activation='softmax'))\n",
    "    \n",
    "    epochs = 20\n",
    "    lrate = 0.01\n",
    "    decay = lrate / epochs\n",
    "    sgd = SGD(lr = lrate, momentum = 0.9, decay = decay, nesterov = False)\n",
    "    model.compile(loss='binary_crossentropy', optimizer=sgd, metrics=['binary_accuracy'])\n",
    "    \n",
    "    model.fit(train_features, train_labels, epochs = epochs, verbose = 0, validation_split = 0.25,\n",
    "              batch_size = 32, shuffle = True)\n",
    "    \n",
    "    _, train_acc = model.evaluate(train_features, train_labels, verbose=0)\n",
    "    _, test_acc = model.evaluate(test_features, test_labels, verbose=0)\n",
    "    print('Param: %f, Train: %.3f, Test: %.3f'% (param, train_acc, test_acc))\n",
    "    all_train.append(train_acc)\n",
    "    all_test.append(test_acc)\n",
    "    \n",
    "# plot train and test means\n",
    "plt.figure(figsize=(20,15))\n",
    "plt.semilogx(values, all_train, label='train', marker='o')\n",
    "plt.semilogx(values, all_test, label='test', marker='o')\n",
    "plt.legend()\n",
    "plt.title('Selecting Optimal L2 Hyperparameter', fontsize = 20)\n",
    "plt.show()"
   ]
  },
  {
   "cell_type": "code",
   "execution_count": null,
   "metadata": {},
   "outputs": [],
   "source": [
    "#Create a Position Weight Matrix with Biopython TODO\n",
    "#neg_bioseq = [Seq(x) for x in negatives]\n",
    "#pos_bioseq = [Seq(x) for x in negatives]\n",
    "#mneg = motifs.create(neg_bioseq)"
   ]
  },
  {
   "cell_type": "code",
   "execution_count": null,
   "metadata": {},
   "outputs": [],
   "source": []
  },
  {
   "cell_type": "code",
   "execution_count": null,
   "metadata": {},
   "outputs": [],
   "source": []
  }
 ],
 "metadata": {
  "kernelspec": {
   "display_name": "Python 3",
   "language": "python",
   "name": "python3"
  },
  "language_info": {
   "codemirror_mode": {
    "name": "ipython",
    "version": 3
   },
   "file_extension": ".py",
   "mimetype": "text/x-python",
   "name": "python",
   "nbconvert_exporter": "python",
   "pygments_lexer": "ipython3",
   "version": "3.7.5"
  }
 },
 "nbformat": 4,
 "nbformat_minor": 4
}
